{
 "cells": [
  {
   "cell_type": "code",
   "execution_count": 1,
   "metadata": {},
   "outputs": [],
   "source": [
    "import os\n",
    "import sys\n",
    "os.chdir('/home/csy/work/3D/PIDiff')\n",
    "\n",
    "sys.path.append(\"/home/csy/work/3D/PIDiff\")\n",
    "sys.path.append(\"/home/csy/work/3D/PIDiff/utils\")\n",
    "sys.path.append(\"/home/csy/work/3D\")\n",
    "import argparse\n",
    "import multiprocessing as mp\n",
    "import pickle\n",
    "import shutil\n",
    "from functools import partial\n",
    "from tqdm.auto import tqdm\n",
    "from utils.data import PDBProtein, parse_sdf_file\n",
    "from mol_tree import *\n",
    "import rdkit\n",
    "import rdkit.Chem as Chem\n",
    "import rdkit.Chem.AllChem as AllChem\n",
    "from openbabel import pybel\n",
    "from openbabel import openbabel as ob\n",
    "import subprocess\n",
    "import os\n",
    "import numpy as np\n",
    "import shutil\n",
    "from plip.structure.preparation import PDBComplex\n",
    "import traceback\n",
    "import utils.misc as misc\n",
    "import utils.transforms as trans\n",
    "from torch_geometric.transforms import Compose\n",
    "from models.molopt_score_model import ScorePosNet3D, log_sample_categorical\n",
    "from scripts.sample_diffusion import sample_diffusion_ligand\n",
    "#from pl_data import ProteinLigandData, torchify_dict"
   ]
  },
  {
   "cell_type": "code",
   "execution_count": 2,
   "metadata": {},
   "outputs": [],
   "source": [
    "def sdf2pdb(sdf_path, pocket_path):\n",
    "    output_path = sdf_path.replace('.sdf', '.pdb')\n",
    "    run_line = f'obabel -isdf {sdf_path} -opdb -O {output_path}'\n",
    "    result = subprocess.run(run_line.split(), capture_output=True, check=True, universal_newlines=True)\n",
    "    print(result)\n",
    "    complex_path = pocket_path.replace('.pdb', 'complex.pdb')\n",
    "    shutil.copy(pocket_path, complex_path)\n",
    "    \n",
    "    comp = open(complex_path, 'a')\n",
    "    comp.write(\"TER\\n\")\n",
    "    \n",
    "    lig_pdb = open(output_path)\n",
    "    lines = lig_pdb.readlines()\n",
    "    for line in lines:\n",
    "        if line[0:6] == 'HETATM' or line[0:6] == 'CONECT':\n",
    "            comp.write(line)\n",
    "    #comp.write(\"END\")\n",
    "    lig_pdb.close()        \n",
    "    comp.close()\n",
    "    return complex_path\n",
    "\n",
    "def load_item(sdf_path, pdb_path):\n",
    "\n",
    "    with open(pdb_path, 'r') as f:\n",
    "        pdb_block = f.read()\n",
    "    with open(sdf_path, 'r') as f:\n",
    "        sdf_block = f.read()\n",
    "    return pdb_block, sdf_block\n",
    "\n",
    "def process_item(sdf_path, pdb_path, pocket_path):\n",
    "    pdb_block, sdf_block = load_item(sdf_path, pdb_path)\n",
    "    protein = PDBProtein(pdb_block)\n",
    "    # ligand = parse_sdf_block(sdf_block)\n",
    "    ligand = parse_sdf_file(sdf_path)\n",
    "\n",
    "    pdb_block_pocket = protein.residues_to_pdb_block(\n",
    "        protein.query_residues_ligand(ligand, 20)\n",
    "    ).replace(\"END\\n\", \"\")    \n",
    "    pocket_path = pocket_path + pdb_path.split('/')[-1].replace('.pdb', '_pocket.pdb')\n",
    "    with open(pocket_path, 'w') as f:\n",
    "        f.write(pdb_block_pocket)\n",
    "        \n",
    "    return pocket_path\n",
    "        \n",
    "    "
   ]
  },
  {
   "cell_type": "markdown",
   "metadata": {},
   "source": [
    "조건\n",
    "- pdb id에 해당하는 directory가 있어야 함 \n",
    "- 해당 폴더 안에는 protein으로만 구성되어 있는 .pdb파일(직접 정제) \n",
    "- ligand에 해당하는 .sdf파일이 있어야 함. "
   ]
  },
  {
   "cell_type": "code",
   "execution_count": 4,
   "metadata": {},
   "outputs": [],
   "source": [
    "protein_name = '2IVU_RET'\n",
    "\n",
    "sdf_path = f'/home/csy/work/3D/PIDiff/scripts/real_world_validation/Kinase/{protein_name}/ligand.sdf'\n",
    "pdb_path = f'/home/csy/work/3D/PIDiff/scripts/real_world_validation/Kinase/{protein_name}/receptor.pdb'"
   ]
  },
  {
   "cell_type": "code",
   "execution_count": 5,
   "metadata": {},
   "outputs": [],
   "source": [
    "# # mol2 to sdf\n",
    "# mol2_path = f\"/home/csy/work/3D/PIDiff/scripts/real_world_validation/{protein_name}/ligand.mol2\"\n",
    "# o_path = f\"/home/csy/work/3D/PIDiff/scripts/real_world_validation/{protein_name}/ligand.sdf\"\n",
    "# run_line = f'obabel -imol2 {mol2_path} -osdf -O {o_path}'\n",
    "# result = subprocess.run(run_line.split(), capture_output=True, check=True, universal_newlines=True)\n",
    "# print(result)"
   ]
  },
  {
   "cell_type": "code",
   "execution_count": 5,
   "metadata": {},
   "outputs": [
    {
     "name": "stdout",
     "output_type": "stream",
     "text": [
      "CompletedProcess(args=['obabel', '-isdf', '/home/csy/work/3D/targetdiff_PINN/scripts/real_world_validation/Kinase/2IVU_RET/ligand.sdf', '-opdb', '-O', '/home/csy/work/3D/targetdiff_PINN/scripts/real_world_validation/Kinase/2IVU_RET/ligand.pdb'], returncode=0, stdout='', stderr='1 molecule converted\\n')\n"
     ]
    }
   ],
   "source": [
    "pocket_path = f'/home/csy/work/3D/PIDiff/scripts/real_world_validation/Kinase/{protein_name}/'\n",
    "pocket_path = process_item(sdf_path, pdb_path, pocket_path)\n",
    "complex_path = sdf2pdb(sdf_path, pocket_path) \n",
    "pocket_path = f'/home/csy/work/3D/PIDiff/scripts/real_world_validation/Kinase/{protein_name}/receptor_pocket.pdb'\n",
    "complex_path = f'/home/csy/work/3D/PIDiff/scripts/real_world_validation/Kinase/{protein_name}/receptor_pocketcomplex.pdb'"
   ]
  },
  {
   "cell_type": "code",
   "execution_count": 8,
   "metadata": {},
   "outputs": [
    {
     "name": "stdout",
     "output_type": "stream",
     "text": [
      "Bounding Box [PDGFRb_20] : 16.728 A\n"
     ]
    }
   ],
   "source": [
    "\"\"\"Calculate Bounding Box\"\"\"\n",
    "\n",
    "# pocket_path = f'/home/csy/work/3D/PharDiff/scripts/real_world_validation/{protein_name}/receptor_pocket.pdb'\n",
    "# complex_path = f'/home/csy/work/3D/PharDiff/scripts/real_world_validation/{protein_name}/receptor_pocketcomplex.pdb'\n",
    "# ligand_path = f'/home/csy/work/3D/PharDiff/scripts/real_world_validation/{protein_name}/ligand.pdb'\n",
    "# with open(pocket_path, 'r') as f:\n",
    "#     lines = [l for l in f.readlines() if (l.startswith('ATOM'))]\n",
    "#     pocket_x = [float(l[30:38]) for l in lines]\n",
    "#     pocket_y = [float(l[38:46]) for l in lines]\n",
    "#     pocket_z = [float(l[46:54]) for l in lines]    \n",
    "    \n",
    "# with open(ligand_path, 'r') as f:\n",
    "#     lines = [l for l in f.readlines() if (l.startswith('HETATM'))]\n",
    "#     ligand_x = [float(l[30:38]) for l in lines]\n",
    "#     ligand_y = [float(l[38:46]) for l in lines]\n",
    "#     ligand_z = [float(l[46:54]) for l in lines]  \n",
    "    \n",
    "# ligand_center = np.array([(max(ligand_x) + max(ligand_x)) / 2 , (max(ligand_y) + max(ligand_y)) / 2 , (max(ligand_z) + max(ligand_z)) / 2])\n",
    "# pocket = np.array([pocket_x, pocket_y, pocket_z]).T\n",
    "\n",
    "# distance_list = []\n",
    "# for atom in pocket:\n",
    "#     distance_list.append(np.linalg.norm(atom - ligand_center))\n",
    "# print(f\"Bounding Box [{protein_name}] : {np.round(np.mean(distance_list), 3)} A\")"
   ]
  },
  {
   "cell_type": "code",
   "execution_count": 4,
   "metadata": {},
   "outputs": [],
   "source": [
    "import torch\n",
    "import torch_scatter\n",
    "import numpy as np\n",
    "from torch_geometric.data import Data\n",
    "from torch_geometric.loader import DataLoader\n",
    "class ProteinLigandData(Data):\n",
    "\n",
    "    def __init__(self, *args, **kwargs):\n",
    "        super().__init__(*args, **kwargs)\n",
    "\n",
    "    @staticmethod\n",
    "    def from_protein_ligand_dicts(protein_dict=None, ligand_dict=None, residue_dict=None, inter_dict=None, **kwargs):\n",
    "        instance = ProteinLigandData(**kwargs)\n",
    "\n",
    "        if protein_dict is not None:\n",
    "            for key, item in protein_dict.items():\n",
    "                instance['protein_' + key] = item\n",
    "\n",
    "        if ligand_dict is not None:\n",
    "            for key, item in ligand_dict.items():\n",
    "                instance['ligand_' + key] = item\n",
    "                \n",
    "        if residue_dict is not None:\n",
    "            for key, item in residue_dict.items():\n",
    "                instance[key] = item\n",
    "                \n",
    "        if inter_dict is not None:\n",
    "            for key, item in inter_dict.items():\n",
    "                instance[key] = item\n",
    "        \n",
    "        instance['ligand_nbh_list'] = {i.item(): [j.item() for k, j in enumerate(instance.ligand_bond_index[1])\n",
    "                                                  if instance.ligand_bond_index[0, k].item() == i]\n",
    "                                       for i in instance.ligand_bond_index[0]}\n",
    "        \n",
    "        \"\"\"\n",
    "        Here it for \"residue_pos\"\n",
    "        \"\"\"\n",
    "        instance['residue_pos'] = torch.stack([instance['pos_CA'], \n",
    "                                               instance['pos_C'], \n",
    "                                               instance['pos_N'], \n",
    "                                               instance['pos_O']], dim=1)\n",
    "        \n",
    "        \n",
    "        return instance\n",
    "\n",
    "    def __inc__(self, key, value, *args, **kwargs):\n",
    "        if key == 'ligand_bond_index':\n",
    "            return self['ligand_element'].size(0)\n",
    "        else:\n",
    "            return super().__inc__(key, value)\n",
    "def torchify_dict(data):\n",
    "    output = {}\n",
    "    for k, v in data.items():\n",
    "        if isinstance(v, np.ndarray):\n",
    "            output[k] = torch.from_numpy(v)\n",
    "        else:\n",
    "            output[k] = v\n",
    "    return output"
   ]
  },
  {
   "cell_type": "code",
   "execution_count": 9,
   "metadata": {},
   "outputs": [],
   "source": [
    "interactions = get_interaction(complex_path, sdf_path)\n",
    "pdb_block, sdf_block = load_item(sdf_path, pocket_path)\n",
    "pocket_dict = PDBProtein(pdb_block).to_dict_atom()\n",
    "residue_dict = PDBProtein(pdb_block).to_dict_residue()\n",
    "ligand_dict = parse_sdf_file(sdf_path)\n",
    "data = ProteinLigandData.from_protein_ligand_dicts(\n",
    "    protein_dict=torchify_dict(pocket_dict),\n",
    "    ligand_dict=torchify_dict(ligand_dict),\n",
    "    residue_dict=torchify_dict(residue_dict),\n",
    ")\n",
    "data.protein_filename = pdb_path\n",
    "data.ligand_filename = sdf_path\n",
    "#data = data.to_dict()"
   ]
  },
  {
   "cell_type": "code",
   "execution_count": null,
   "metadata": {},
   "outputs": [],
   "source": [
    "device = 'cuda:0'\n",
    "config_path = '/home/csy/work/3D/PIDiff_PINN/scripts/real_world_validation/sampling.yml'\n",
    "sample_size = 10\n",
    "config = misc.load_config(config_path)\n",
    "misc.seed_all(config.sample.seed)\n",
    "ckpt = torch.load(config.model.checkpoint, map_location=device)\n",
    "protein_featurizer = trans.FeaturizeProteinAtom()\n",
    "ligand_atom_mode = ckpt['config'].data.transform.ligand_atom_mode\n",
    "ligand_featurizer = trans.FeaturizeLigandAtom(ligand_atom_mode)\n",
    "transform = Compose([\n",
    "    protein_featurizer,\n",
    "    ligand_featurizer,\n",
    "    trans.FeaturizeLigandBond(),\n",
    "])\n",
    "model = ScorePosNet3D(\n",
    "    ckpt['config'].model,\n",
    "    protein_atom_feature_dim=protein_featurizer.feature_dim,\n",
    "    ligand_atom_feature_dim=ligand_featurizer.feature_dim\n",
    ").to(device)\n",
    "model.load_state_dict(ckpt['model'])\n",
    "data = transform(data)\n",
    "\n",
    "all_pred_pos, all_pred_v, pred_pos_traj, pred_v_traj, pred_v0_traj, pred_vt_traj, time_list = sample_diffusion_ligand(\n",
    "    model, data, config.sample.num_samples,\n",
    "    batch_size=sample_size, device=device,\n",
    "    num_steps=config.sample.num_steps,\n",
    "    pos_only=config.sample.pos_only,\n",
    "    center_pos_mode=config.sample.center_pos_mode,\n",
    "    sample_num_atoms=config.sample.sample_num_atoms\n",
    ")"
   ]
  },
  {
   "cell_type": "code",
   "execution_count": 16,
   "metadata": {},
   "outputs": [],
   "source": [
    "result = {\n",
    "    'data': data,\n",
    "    'pred_ligand_pos': all_pred_pos,\n",
    "    'pred_ligand_v': all_pred_v,\n",
    "    'pred_ligand_pos_traj': pred_pos_traj,\n",
    "    'pred_ligand_v_traj': pred_v_traj\n",
    "}"
   ]
  },
  {
   "cell_type": "code",
   "execution_count": 18,
   "metadata": {},
   "outputs": [],
   "source": [
    "protein_path = f'/home/csy/work/3D/PIDiff_PINN/scripts/real_world_validation/Kinase/{protein_name}/'\n",
    "result_path = os.path.join(protein_path, 'result')\n",
    "os.makedirs(result_path, exist_ok=True)"
   ]
  },
  {
   "cell_type": "code",
   "execution_count": 19,
   "metadata": {},
   "outputs": [],
   "source": [
    "with open(result_path + \"/mol_result.pickle\",'wb') as fw:\n",
    "    pickle.dump(result, fw)"
   ]
  },
  {
   "cell_type": "code",
   "execution_count": null,
   "metadata": {},
   "outputs": [],
   "source": [
    "with open(result_path + \"/mol_result.pickle\", 'rb') as fr:\n",
    "    user_loaded = pickle.load(fr)\n",
    "    \n"
   ]
  },
  {
   "cell_type": "code",
   "execution_count": 10,
   "metadata": {},
   "outputs": [],
   "source": [
    "# result_path = sdf_path.replace('.sdf', '_result.pt')\n",
    "# torch.save(result, result_path)"
   ]
  },
  {
   "cell_type": "code",
   "execution_count": 5,
   "metadata": {},
   "outputs": [
    {
     "data": {
      "application/vnd.jupyter.widget-view+json": {
       "model_id": "8135c9f4f4c84260a9757145fbfea108",
       "version_major": 2,
       "version_minor": 0
      },
      "text/plain": [
       "  0%|          | 0/4 [00:00<?, ?it/s]"
      ]
     },
     "metadata": {},
     "output_type": "display_data"
    },
    {
     "name": "stdout",
     "output_type": "stream",
     "text": [
      "CompletedProcess(args=['obabel', '-isdf', '/home/csy/work/3D/targetdiff_PINN/scripts/real_world_validation/Kinase/4G5J_EGFR/ligand.sdf', '-opdb', '-O', '/home/csy/work/3D/targetdiff_PINN/scripts/real_world_validation/Kinase/4G5J_EGFR/ligand.pdb'], returncode=0, stdout='', stderr='1 molecule converted\\n')\n"
     ]
    },
    {
     "data": {
      "application/vnd.jupyter.widget-view+json": {
       "model_id": "1c0546c7cd7d4be5a26df19329ba5156",
       "version_major": 2,
       "version_minor": 0
      },
      "text/plain": [
       "  0%|          | 0/100 [00:00<?, ?it/s]"
      ]
     },
     "metadata": {},
     "output_type": "display_data"
    },
    {
     "name": "stdout",
     "output_type": "stream",
     "text": [
      "CompletedProcess(args=['obabel', '-isdf', '/home/csy/work/3D/targetdiff_PINN/scripts/real_world_validation/Kinase/5AAA_ALK/ligand.sdf', '-opdb', '-O', '/home/csy/work/3D/targetdiff_PINN/scripts/real_world_validation/Kinase/5AAA_ALK/ligand.pdb'], returncode=0, stdout='', stderr='1 molecule converted\\n')\n"
     ]
    },
    {
     "data": {
      "application/vnd.jupyter.widget-view+json": {
       "model_id": "ed70b358b07d40a1ac6b2aa0756f84c3",
       "version_major": 2,
       "version_minor": 0
      },
      "text/plain": [
       "  0%|          | 0/100 [00:00<?, ?it/s]"
      ]
     },
     "metadata": {},
     "output_type": "display_data"
    },
    {
     "name": "stdout",
     "output_type": "stream",
     "text": [
      "CompletedProcess(args=['obabel', '-isdf', '/home/csy/work/3D/targetdiff_PINN/scripts/real_world_validation/Kinase/5MQT_KIT/ligand.sdf', '-opdb', '-O', '/home/csy/work/3D/targetdiff_PINN/scripts/real_world_validation/Kinase/5MQT_KIT/ligand.pdb'], returncode=0, stdout='', stderr='1 molecule converted\\n')\n"
     ]
    },
    {
     "data": {
      "application/vnd.jupyter.widget-view+json": {
       "model_id": "5776d4b972fc4845a0efd1812a029622",
       "version_major": 2,
       "version_minor": 0
      },
      "text/plain": [
       "  0%|          | 0/100 [00:00<?, ?it/s]"
      ]
     },
     "metadata": {},
     "output_type": "display_data"
    },
    {
     "name": "stdout",
     "output_type": "stream",
     "text": [
      "CompletedProcess(args=['obabel', '-isdf', '/home/csy/work/3D/targetdiff_PINN/scripts/real_world_validation/Kinase/3DKF_MET/ligand.sdf', '-opdb', '-O', '/home/csy/work/3D/targetdiff_PINN/scripts/real_world_validation/Kinase/3DKF_MET/ligand.pdb'], returncode=0, stdout='', stderr='1 molecule converted\\n')\n"
     ]
    },
    {
     "data": {
      "application/vnd.jupyter.widget-view+json": {
       "model_id": "7c21e18936c544ce9277398a8fbd6b87",
       "version_major": 2,
       "version_minor": 0
      },
      "text/plain": [
       "  0%|          | 0/100 [00:00<?, ?it/s]"
      ]
     },
     "metadata": {},
     "output_type": "display_data"
    }
   ],
   "source": [
    "protein_list = ['4G5J_EGFR', '5AAA_ALK', '5MQT_KIT','3DKF_MET']\n",
    "for protein_name in tqdm(protein_list):\n",
    "    sdf_path = f'/home/csy/work/3D/PIDiff/scripts/real_world_validation/Kinase/{protein_name}/ligand.sdf'\n",
    "    pdb_path = f'/home/csy/work/3D/PIDiff/scripts/real_world_validation/Kinase/{protein_name}/receptor.pdb'\n",
    "    pocket_path = f'/home/csy/work/3D/PIDiff/scripts/real_world_validation/Kinase/{protein_name}/'\n",
    "    pocket_path = process_item(sdf_path, pdb_path, pocket_path)\n",
    "    complex_path = sdf2pdb(sdf_path, pocket_path) \n",
    "    pocket_path = f'/home/csy/work/3D/PIDiff/scripts/real_world_validation/Kinase/{protein_name}/receptor_pocket.pdb'\n",
    "    complex_path = f'/home/csy/work/3D/PIDiff/scripts/real_world_validation/Kinase/{protein_name}/receptor_pocketcomplex.pdb'\n",
    "    \n",
    "    interactions = get_interaction(complex_path, sdf_path)\n",
    "    pdb_block, sdf_block = load_item(sdf_path, pocket_path)\n",
    "    pocket_dict = PDBProtein(pdb_block).to_dict_atom()\n",
    "    residue_dict = PDBProtein(pdb_block).to_dict_residue()\n",
    "    ligand_dict = parse_sdf_file(sdf_path)\n",
    "    interactions_dict = {\"IntramolInteraction\":interactions}\n",
    "    data = ProteinLigandData.from_protein_ligand_dicts(\n",
    "        protein_dict=torchify_dict(pocket_dict),\n",
    "        ligand_dict=torchify_dict(ligand_dict),\n",
    "        residue_dict=torchify_dict(residue_dict),\n",
    "        inter_dict=torchify_dict(interactions_dict),\n",
    "    )\n",
    "    data.protein_filename = pdb_path\n",
    "    data.ligand_filename = sdf_path\n",
    "\n",
    "    device = 'cuda:0'\n",
    "    config_path = '/home/csy/work/3D/PIDiff/scripts/real_world_validation/sampling.yml'\n",
    "    sample_size = 10\n",
    "    config = misc.load_config(config_path)\n",
    "    misc.seed_all(config.sample.seed)\n",
    "    ckpt = torch.load(config.model.checkpoint, map_location=device)\n",
    "    protein_featurizer = trans.FeaturizeProteinAtom()\n",
    "    ligand_atom_mode = ckpt['config'].data.transform.ligand_atom_mode\n",
    "    ligand_featurizer = trans.FeaturizeLigandAtom(ligand_atom_mode)\n",
    "    transform = Compose([\n",
    "        protein_featurizer,\n",
    "        ligand_featurizer,\n",
    "        trans.FeaturizeLigandBond(),\n",
    "    ])\n",
    "    model = ScorePosNet3D(\n",
    "        ckpt['config'].model,\n",
    "        protein_atom_feature_dim=protein_featurizer.feature_dim,\n",
    "        ligand_atom_feature_dim=ligand_featurizer.feature_dim\n",
    "    ).to(device)\n",
    "    model.load_state_dict(ckpt['model'])\n",
    "    data = transform(data)\n",
    "\n",
    "    all_pred_pos, all_pred_v, pred_pos_traj, pred_v_traj, pred_v0_traj, pred_vt_traj, time_list = sample_diffusion_ligand(\n",
    "        model, data, config.sample.num_samples,\n",
    "        batch_size=sample_size, device=device,\n",
    "        num_steps=config.sample.num_steps,\n",
    "        pos_only=config.sample.pos_only,\n",
    "        center_pos_mode=config.sample.center_pos_mode,\n",
    "        sample_num_atoms=config.sample.sample_num_atoms\n",
    "    )\n",
    "\n",
    "    result = {\n",
    "        'data': data,\n",
    "        'pred_ligand_pos': all_pred_pos,\n",
    "        'pred_ligand_v': all_pred_v,\n",
    "        'pred_ligand_pos_traj': pred_pos_traj,\n",
    "        'pred_ligand_v_traj': pred_v_traj\n",
    "    }\n",
    "\n",
    "    protein_path = f'/home/csy/work/3D/PIDiff/scripts/real_world_validation/Kinase/{protein_name}/'\n",
    "    result_path = os.path.join(protein_path, 'result')\n",
    "    os.makedirs(result_path, exist_ok=True)\n",
    "\n",
    "    with open(result_path + \"/mol_result.pickle\",'wb') as fw:\n",
    "        pickle.dump(result, fw)\n"
   ]
  }
 ],
 "metadata": {
  "kernelspec": {
   "display_name": "hierdiff",
   "language": "python",
   "name": "python3"
  },
  "language_info": {
   "codemirror_mode": {
    "name": "ipython",
    "version": 3
   },
   "file_extension": ".py",
   "mimetype": "text/x-python",
   "name": "python",
   "nbconvert_exporter": "python",
   "pygments_lexer": "ipython3",
   "version": "3.8.17"
  },
  "orig_nbformat": 4
 },
 "nbformat": 4,
 "nbformat_minor": 2
}
